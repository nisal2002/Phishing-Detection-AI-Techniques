{
 "cells": [
  {
   "cell_type": "markdown",
   "id": "8623c407",
   "metadata": {},
   "source": [
    "THis notebook explores the usage of random forest for phishing detection"
   ]
  },
  {
   "cell_type": "code",
<<<<<<< HEAD
   "execution_count": 2,
=======
   "execution_count": 9,
>>>>>>> dfa95477dfb4e9dad985e6c40f69a5f8b6394851
   "id": "1eb14743",
   "metadata": {},
   "outputs": [],
   "source": [
    "import pandas as pd\n",
    "from sklearn.model_selection import train_test_split\n",
    "from sklearn.ensemble import RandomForestClassifier\n",
    "from sklearn.feature_extraction.text import TfidfVectorizer\n",
    "from sklearn.metrics import classification_report, accuracy_score\n",
    "from sklearn.model_selection import learning_curve\n",
    "import matplotlib.pyplot as plt\n",
    "import numpy as np\n",
    "from sklearn.model_selection import cross_val_score"
   ]
  },
  {
   "cell_type": "code",
<<<<<<< HEAD
   "execution_count": 3,
=======
   "execution_count": 10,
>>>>>>> dfa95477dfb4e9dad985e6c40f69a5f8b6394851
   "id": "c68f9d8e",
   "metadata": {},
   "outputs": [
    {
     "data": {
      "text/html": [
       "<div>\n",
       "<style scoped>\n",
       "    .dataframe tbody tr th:only-of-type {\n",
       "        vertical-align: middle;\n",
       "    }\n",
       "\n",
       "    .dataframe tbody tr th {\n",
       "        vertical-align: top;\n",
       "    }\n",
       "\n",
       "    .dataframe thead th {\n",
       "        text-align: right;\n",
       "    }\n",
       "</style>\n",
       "<table border=\"1\" class=\"dataframe\">\n",
       "  <thead>\n",
       "    <tr style=\"text-align: right;\">\n",
       "      <th></th>\n",
       "      <th>sender</th>\n",
       "      <th>receiver</th>\n",
       "      <th>date</th>\n",
       "      <th>subject</th>\n",
       "      <th>body</th>\n",
       "      <th>label</th>\n",
       "      <th>urls</th>\n",
       "    </tr>\n",
       "  </thead>\n",
       "  <tbody>\n",
       "    <tr>\n",
       "      <th>0</th>\n",
       "      <td>Young Esposito &lt;Young@iworld.de&gt;</td>\n",
       "      <td>user4@gvc.ceas-challenge.cc</td>\n",
       "      <td>Tue, 05 Aug 2008 16:31:02 -0700</td>\n",
       "      <td>Never agree to be a loser</td>\n",
       "      <td>Buck up, your troubles caused by small dimensi...</td>\n",
       "      <td>1</td>\n",
       "      <td>1</td>\n",
       "    </tr>\n",
       "    <tr>\n",
       "      <th>1</th>\n",
       "      <td>Mok &lt;ipline's1983@icable.ph&gt;</td>\n",
       "      <td>user2.2@gvc.ceas-challenge.cc</td>\n",
       "      <td>Tue, 05 Aug 2008 18:31:03 -0500</td>\n",
       "      <td>Befriend Jenna Jameson</td>\n",
       "      <td>\\nUpgrade your sex and pleasures with these te...</td>\n",
       "      <td>1</td>\n",
       "      <td>1</td>\n",
       "    </tr>\n",
       "    <tr>\n",
       "      <th>2</th>\n",
       "      <td>Daily Top 10 &lt;Karmandeep-opengevl@universalnet...</td>\n",
       "      <td>user2.9@gvc.ceas-challenge.cc</td>\n",
       "      <td>Tue, 05 Aug 2008 20:28:00 -1200</td>\n",
       "      <td>CNN.com Daily Top 10</td>\n",
       "      <td>&gt;+=+=+=+=+=+=+=+=+=+=+=+=+=+=+=+=+=+=+=+=+=+=+...</td>\n",
       "      <td>1</td>\n",
       "      <td>1</td>\n",
       "    </tr>\n",
       "    <tr>\n",
       "      <th>3</th>\n",
       "      <td>Michael Parker &lt;ivqrnai@pobox.com&gt;</td>\n",
       "      <td>SpamAssassin Dev &lt;xrh@spamassassin.apache.org&gt;</td>\n",
       "      <td>Tue, 05 Aug 2008 17:31:20 -0600</td>\n",
       "      <td>Re: svn commit: r619753 - in /spamassassin/tru...</td>\n",
       "      <td>Would anyone object to removing .so from this ...</td>\n",
       "      <td>0</td>\n",
       "      <td>1</td>\n",
       "    </tr>\n",
       "    <tr>\n",
       "      <th>4</th>\n",
       "      <td>Gretchen Suggs &lt;externalsep1@loanofficertool.com&gt;</td>\n",
       "      <td>user2.2@gvc.ceas-challenge.cc</td>\n",
       "      <td>Tue, 05 Aug 2008 19:31:21 -0400</td>\n",
       "      <td>SpecialPricesPharmMoreinfo</td>\n",
       "      <td>\\nWelcomeFastShippingCustomerSupport\\nhttp://7...</td>\n",
       "      <td>1</td>\n",
       "      <td>1</td>\n",
       "    </tr>\n",
       "    <tr>\n",
       "      <th>...</th>\n",
       "      <td>...</td>\n",
       "      <td>...</td>\n",
       "      <td>...</td>\n",
       "      <td>...</td>\n",
       "      <td>...</td>\n",
       "      <td>...</td>\n",
       "      <td>...</td>\n",
       "    </tr>\n",
       "    <tr>\n",
       "      <th>39149</th>\n",
       "      <td>CNN Alerts &lt;charlene-detecton@btcmarketing.com&gt;</td>\n",
       "      <td>email1007@gvc.ceas-challenge.cc</td>\n",
       "      <td>Fri, 08 Aug 2008 10:34:50 -0400</td>\n",
       "      <td>CNN Alerts: My Custom Alert</td>\n",
       "      <td>\\n\\nCNN Alerts: My Custom Alert\\n\\n\\n\\n\\n\\n\\n ...</td>\n",
       "      <td>1</td>\n",
       "      <td>0</td>\n",
       "    </tr>\n",
       "    <tr>\n",
       "      <th>39150</th>\n",
       "      <td>CNN Alerts &lt;idgetily1971@careplusnj.org&gt;</td>\n",
       "      <td>email104@gvc.ceas-challenge.cc</td>\n",
       "      <td>Fri, 08 Aug 2008 10:35:11 -0400</td>\n",
       "      <td>CNN Alerts: My Custom Alert</td>\n",
       "      <td>\\n\\nCNN Alerts: My Custom Alert\\n\\n\\n\\n\\n\\n\\n ...</td>\n",
       "      <td>1</td>\n",
       "      <td>0</td>\n",
       "    </tr>\n",
       "    <tr>\n",
       "      <th>39151</th>\n",
       "      <td>Abhijit Vyas &lt;xpojhbz@gmail.com&gt;</td>\n",
       "      <td>fxgmqwjn@triptracker.net</td>\n",
       "      <td>Fri, 08 Aug 2008 22:00:43 +0800</td>\n",
       "      <td>Slideshow viewer</td>\n",
       "      <td>Hello there ! \\nGreat work on the slide show v...</td>\n",
       "      <td>0</td>\n",
       "      <td>0</td>\n",
       "    </tr>\n",
       "    <tr>\n",
       "      <th>39152</th>\n",
       "      <td>Joseph Brennan &lt;vupzesm@columbia.edu&gt;</td>\n",
       "      <td>zqoqi@spamassassin.apache.org</td>\n",
       "      <td>Fri, 08 Aug 2008 09:00:46 -0500</td>\n",
       "      <td>Note on 2-digit years</td>\n",
       "      <td>\\nMail from sender , coming from intuit.com\\ns...</td>\n",
       "      <td>0</td>\n",
       "      <td>0</td>\n",
       "    </tr>\n",
       "    <tr>\n",
       "      <th>39153</th>\n",
       "      <td>Christian Heimes &lt;wluhe@cheimes.de&gt;</td>\n",
       "      <td>Python Dev &lt;zvllln-eum@python.org&gt;</td>\n",
       "      <td>Fri, 08 Aug 2008 16:00:18 +0200</td>\n",
       "      <td>[Python-Dev] PEP 370 heads up</td>\n",
       "      <td>Dear fellow Pythonistas!\\n\\nGuido has accepted...</td>\n",
       "      <td>0</td>\n",
       "      <td>1</td>\n",
       "    </tr>\n",
       "  </tbody>\n",
       "</table>\n",
       "<p>39154 rows × 7 columns</p>\n",
       "</div>"
      ],
      "text/plain": [
       "                                                  sender  \\\n",
       "0                       Young Esposito <Young@iworld.de>   \n",
       "1                           Mok <ipline's1983@icable.ph>   \n",
       "2      Daily Top 10 <Karmandeep-opengevl@universalnet...   \n",
       "3                     Michael Parker <ivqrnai@pobox.com>   \n",
       "4      Gretchen Suggs <externalsep1@loanofficertool.com>   \n",
       "...                                                  ...   \n",
       "39149    CNN Alerts <charlene-detecton@btcmarketing.com>   \n",
       "39150           CNN Alerts <idgetily1971@careplusnj.org>   \n",
       "39151                   Abhijit Vyas <xpojhbz@gmail.com>   \n",
       "39152              Joseph Brennan <vupzesm@columbia.edu>   \n",
       "39153                Christian Heimes <wluhe@cheimes.de>   \n",
       "\n",
       "                                             receiver  \\\n",
       "0                         user4@gvc.ceas-challenge.cc   \n",
       "1                       user2.2@gvc.ceas-challenge.cc   \n",
       "2                       user2.9@gvc.ceas-challenge.cc   \n",
       "3      SpamAssassin Dev <xrh@spamassassin.apache.org>   \n",
       "4                       user2.2@gvc.ceas-challenge.cc   \n",
       "...                                               ...   \n",
       "39149                 email1007@gvc.ceas-challenge.cc   \n",
       "39150                  email104@gvc.ceas-challenge.cc   \n",
       "39151                        fxgmqwjn@triptracker.net   \n",
       "39152                   zqoqi@spamassassin.apache.org   \n",
       "39153              Python Dev <zvllln-eum@python.org>   \n",
       "\n",
       "                                  date  \\\n",
       "0      Tue, 05 Aug 2008 16:31:02 -0700   \n",
       "1      Tue, 05 Aug 2008 18:31:03 -0500   \n",
       "2      Tue, 05 Aug 2008 20:28:00 -1200   \n",
       "3      Tue, 05 Aug 2008 17:31:20 -0600   \n",
       "4      Tue, 05 Aug 2008 19:31:21 -0400   \n",
       "...                                ...   \n",
       "39149  Fri, 08 Aug 2008 10:34:50 -0400   \n",
       "39150  Fri, 08 Aug 2008 10:35:11 -0400   \n",
       "39151  Fri, 08 Aug 2008 22:00:43 +0800   \n",
       "39152  Fri, 08 Aug 2008 09:00:46 -0500   \n",
       "39153  Fri, 08 Aug 2008 16:00:18 +0200   \n",
       "\n",
       "                                                 subject  \\\n",
       "0                              Never agree to be a loser   \n",
       "1                                 Befriend Jenna Jameson   \n",
       "2                                   CNN.com Daily Top 10   \n",
       "3      Re: svn commit: r619753 - in /spamassassin/tru...   \n",
       "4                             SpecialPricesPharmMoreinfo   \n",
       "...                                                  ...   \n",
       "39149                        CNN Alerts: My Custom Alert   \n",
       "39150                        CNN Alerts: My Custom Alert   \n",
       "39151                                   Slideshow viewer   \n",
       "39152                              Note on 2-digit years   \n",
       "39153                      [Python-Dev] PEP 370 heads up   \n",
       "\n",
       "                                                    body  label  urls  \n",
       "0      Buck up, your troubles caused by small dimensi...      1     1  \n",
       "1      \\nUpgrade your sex and pleasures with these te...      1     1  \n",
       "2      >+=+=+=+=+=+=+=+=+=+=+=+=+=+=+=+=+=+=+=+=+=+=+...      1     1  \n",
       "3      Would anyone object to removing .so from this ...      0     1  \n",
       "4      \\nWelcomeFastShippingCustomerSupport\\nhttp://7...      1     1  \n",
       "...                                                  ...    ...   ...  \n",
       "39149  \\n\\nCNN Alerts: My Custom Alert\\n\\n\\n\\n\\n\\n\\n ...      1     0  \n",
       "39150  \\n\\nCNN Alerts: My Custom Alert\\n\\n\\n\\n\\n\\n\\n ...      1     0  \n",
       "39151  Hello there ! \\nGreat work on the slide show v...      0     0  \n",
       "39152  \\nMail from sender , coming from intuit.com\\ns...      0     0  \n",
       "39153  Dear fellow Pythonistas!\\n\\nGuido has accepted...      0     1  \n",
       "\n",
       "[39154 rows x 7 columns]"
      ]
     },
<<<<<<< HEAD
     "execution_count": 3,
=======
     "execution_count": 10,
>>>>>>> dfa95477dfb4e9dad985e6c40f69a5f8b6394851
     "metadata": {},
     "output_type": "execute_result"
    }
   ],
   "source": [
    "df = pd.read_csv('dataset/CEAS_08.csv')\n",
    "df"
   ]
  },
  {
   "cell_type": "markdown",
   "id": "bb8ded7d",
   "metadata": {},
   "source": [
    "Cleaning Dataset"
   ]
  },
  {
   "cell_type": "code",
<<<<<<< HEAD
   "execution_count": 4,
=======
   "execution_count": 11,
>>>>>>> dfa95477dfb4e9dad985e6c40f69a5f8b6394851
   "id": "e0b4464c",
   "metadata": {},
   "outputs": [
    {
     "name": "stdout",
     "output_type": "stream",
     "text": [
      "<class 'pandas.core.frame.DataFrame'>\n",
      "RangeIndex: 38669 entries, 0 to 38668\n",
      "Data columns (total 7 columns):\n",
      " #   Column    Non-Null Count  Dtype \n",
      "---  ------    --------------  ----- \n",
      " 0   sender    38669 non-null  object\n",
      " 1   receiver  38669 non-null  object\n",
      " 2   date      38669 non-null  object\n",
      " 3   subject   38669 non-null  object\n",
      " 4   body      38669 non-null  object\n",
      " 5   label     38669 non-null  int64 \n",
      " 6   urls      38669 non-null  int64 \n",
      "dtypes: int64(2), object(5)\n",
      "memory usage: 2.1+ MB\n",
      "None\n"
     ]
    }
   ],
   "source": [
    "df = df.dropna()\n",
    "df = df.reset_index(drop =True)\n",
    "print(df.info())"
   ]
  },
  {
   "cell_type": "markdown",
   "id": "fb6e266e",
   "metadata": {},
   "source": [
    "subject based detection"
   ]
  },
  {
   "cell_type": "code",
<<<<<<< HEAD
   "execution_count": 5,
=======
   "execution_count": 13,
>>>>>>> dfa95477dfb4e9dad985e6c40f69a5f8b6394851
   "id": "a1ce4420",
   "metadata": {},
   "outputs": [],
   "source": [
    "#use this block to predict phishing subject based"
   ]
  },
  {
   "cell_type": "markdown",
   "id": "46966111",
   "metadata": {},
   "source": [
    "body based detection"
   ]
  },
  {
   "cell_type": "code",
<<<<<<< HEAD
   "execution_count": 6,
=======
   "execution_count": 7,
>>>>>>> dfa95477dfb4e9dad985e6c40f69a5f8b6394851
   "id": "f23d4721",
   "metadata": {},
   "outputs": [],
   "source": [
    "#use this block to predict using body based"
   ]
  },
  {
   "cell_type": "markdown",
   "id": "48ba8203",
   "metadata": {},
   "source": [
    "sender based"
   ]
  },
  {
   "cell_type": "code",
<<<<<<< HEAD
   "execution_count": 7,
=======
   "execution_count": 8,
>>>>>>> dfa95477dfb4e9dad985e6c40f69a5f8b6394851
   "id": "2a1fc9f4",
   "metadata": {},
   "outputs": [],
   "source": [
    "#use this to predict using sender (maybe reciver also)"
   ]
  },
  {
   "cell_type": "markdown",
   "id": "24c8760d",
   "metadata": {},
   "source": [
    "body, sender, subject based detection"
   ]
  },
  {
   "cell_type": "code",
   "execution_count": 14,
   "id": "5e70961e",
   "metadata": {},
   "outputs": [
    {
     "name": "stdout",
     "output_type": "stream",
     "text": [
      "Accuracy: 0.9547452805792604\n",
      "              precision    recall  f1-score   support\n",
      "\n",
      "           0       1.00      0.90      0.95      3379\n",
      "           1       0.93      1.00      0.96      4355\n",
      "\n",
      "    accuracy                           0.95      7734\n",
      "   macro avg       0.96      0.95      0.95      7734\n",
      "weighted avg       0.96      0.95      0.95      7734\n",
      "\n"
     ]
    }
   ],
   "source": [
    "#use this to take into context subject body and sender \n",
    "df['combined_text'] = (\n",
    "    df['subject'].fillna('') + ' ' +\n",
    "    df['body'].fillna('') + ' ' +\n",
    "    df['sender'].fillna('')\n",
    ")\n",
    "\n",
    "vectorizer = TfidfVectorizer(stop_words='english', max_features=3000)\n",
    "X = vectorizer.fit_transform(df['combined_text'])\n",
    "\n",
    "\n",
    "y = df['label']\n",
    "\n",
    "\n",
    "X_train, X_test, y_train, y_test = train_test_split(X, y, test_size=0.2, random_state=42)\n",
    "rf_all = RandomForestClassifier(\n",
    "    n_estimators=100,\n",
    "    max_depth=8,            \n",
    "    min_samples_split=5,   \n",
    "    min_samples_leaf=3,      \n",
    "    max_features='sqrt',     \n",
    "    bootstrap=True,         \n",
    "    random_state=42,\n",
    "    n_jobs=-1\n",
    ")\n",
    "rf_all.fit(X_train, y_train)\n",
    "\n",
    "# Predict and evaluate\n",
    "y_pred = rf_all.predict(X_test)\n",
    "\n",
    "print(\"Accuracy:\", accuracy_score(y_test, y_pred))\n",
    "print(classification_report(y_test, y_pred))"
   ]
  },
  {
   "cell_type": "code",
   "execution_count": 15,
   "id": "fd85ed76",
   "metadata": {},
   "outputs": [
    {
     "name": "stdout",
     "output_type": "stream",
     "text": [
      "training vs Testing Accuracy\n",
      "Training Accuracy: 0.9556\n",
      "Testing Accuracy:  0.9547\n",
      " \n",
      "check for overfitting\n"
     ]
    },
    {
     "data": {
      "image/png": "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",
      "text/plain": [
       "<Figure size 640x480 with 1 Axes>"
      ]
     },
     "metadata": {},
     "output_type": "display_data"
    },
    {
     "name": "stdout",
     "output_type": "stream",
     "text": [
      " \n",
      "cross validation\n",
      "Cross-validation scores: [0.95345229 0.96340833 0.95681407 0.94983191 0.93702315]\n",
      "Mean CV accuracy: 0.9521059483617158\n"
     ]
    }
   ],
   "source": [
    "print(\"training vs Testing Accuracy\")\n",
    "train_pred = rf_all.predict(X_train)\n",
    "test_pred = rf_all.predict(X_test)\n",
    "\n",
    "train_acc = accuracy_score(y_train, train_pred)\n",
    "test_acc = accuracy_score(y_test, test_pred)\n",
    "\n",
    "print(f\"Training Accuracy: {train_acc:.4f}\")\n",
    "print(f\"Testing Accuracy:  {test_acc:.4f}\")\n",
    "print(\" \")\n",
    "print(\"check for overfitting\")\n",
    "train_sizes, train_scores, test_scores = learning_curve(\n",
    "    rf_all, X, y, cv=5, scoring='accuracy', n_jobs=-1, train_sizes=np.linspace(0.1, 1.0, 10)\n",
    ")\n",
    "\n",
    "train_mean = np.mean(train_scores, axis=1)\n",
    "test_mean = np.mean(test_scores, axis=1)\n",
    "\n",
    "plt.plot(train_sizes, train_mean, label='Training score')\n",
    "plt.plot(train_sizes, test_mean, label='Cross-validation score')\n",
    "plt.xlabel('Training Set Size')\n",
    "plt.ylabel('Accuracy')\n",
    "plt.legend()\n",
    "plt.title('Learning Curve - Random Forest (Phishing Detection)')\n",
    "plt.show()\n",
    "print(\" \")\n",
    "print(\"cross validation\")\n",
    "cv_scores = cross_val_score(rf_all, X, y, cv=5, scoring='accuracy')\n",
    "print(\"Cross-validation scores:\", cv_scores)\n",
    "print(\"Mean CV accuracy:\", cv_scores.mean())"
   ]
  },
  {
   "cell_type": "markdown",
   "id": "fc09159a",
   "metadata": {},
   "source": [
    "use fuzzy rules to take into context the individual models for subject body and sender and combine them into one fuzzy logic based model to predict phishing emails"
   ]
  }
 ],
 "metadata": {
  "kernelspec": {
   "display_name": "base",
   "language": "python",
   "name": "python3"
  },
  "language_info": {
   "codemirror_mode": {
    "name": "ipython",
    "version": 3
   },
   "file_extension": ".py",
   "mimetype": "text/x-python",
   "name": "python",
   "nbconvert_exporter": "python",
   "pygments_lexer": "ipython3",
<<<<<<< HEAD
   "version": "3.11.5"
=======
   "version": "3.13.3"
>>>>>>> dfa95477dfb4e9dad985e6c40f69a5f8b6394851
  }
 },
 "nbformat": 4,
 "nbformat_minor": 5
}
