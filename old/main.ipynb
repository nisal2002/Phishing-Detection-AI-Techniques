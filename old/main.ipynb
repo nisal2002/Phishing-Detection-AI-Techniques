{
 "cells": [
  {
   "cell_type": "markdown",
   "id": "8623c407",
   "metadata": {},
   "source": [
    "THis notebook explores the usage of random forest for phishing detection"
   ]
  },
  {
   "cell_type": "code",
   "execution_count": 1,
   "id": "1eb14743",
   "metadata": {},
   "outputs": [],
   "source": [
    "import pandas as pd"
   ]
  },
  {
   "cell_type": "code",
   "execution_count": null,
   "id": "c68f9d8e",
   "metadata": {},
   "outputs": [
    {
     "data": {
      "text/html": [
       "<div>\n",
       "<style scoped>\n",
       "    .dataframe tbody tr th:only-of-type {\n",
       "        vertical-align: middle;\n",
       "    }\n",
       "\n",
       "    .dataframe tbody tr th {\n",
       "        vertical-align: top;\n",
       "    }\n",
       "\n",
       "    .dataframe thead th {\n",
       "        text-align: right;\n",
       "    }\n",
       "</style>\n",
       "<table border=\"1\" class=\"dataframe\">\n",
       "  <thead>\n",
       "    <tr style=\"text-align: right;\">\n",
       "      <th></th>\n",
       "      <th>sender</th>\n",
       "      <th>receiver</th>\n",
       "      <th>date</th>\n",
       "      <th>subject</th>\n",
       "      <th>body</th>\n",
       "      <th>label</th>\n",
       "      <th>urls</th>\n",
       "    </tr>\n",
       "  </thead>\n",
       "  <tbody>\n",
       "    <tr>\n",
       "      <th>0</th>\n",
       "      <td>Young Esposito &lt;Young@iworld.de&gt;</td>\n",
       "      <td>user4@gvc.ceas-challenge.cc</td>\n",
       "      <td>Tue, 05 Aug 2008 16:31:02 -0700</td>\n",
       "      <td>Never agree to be a loser</td>\n",
       "      <td>Buck up, your troubles caused by small dimensi...</td>\n",
       "      <td>1</td>\n",
       "      <td>1</td>\n",
       "    </tr>\n",
       "    <tr>\n",
       "      <th>1</th>\n",
       "      <td>Mok &lt;ipline's1983@icable.ph&gt;</td>\n",
       "      <td>user2.2@gvc.ceas-challenge.cc</td>\n",
       "      <td>Tue, 05 Aug 2008 18:31:03 -0500</td>\n",
       "      <td>Befriend Jenna Jameson</td>\n",
       "      <td>\\nUpgrade your sex and pleasures with these te...</td>\n",
       "      <td>1</td>\n",
       "      <td>1</td>\n",
       "    </tr>\n",
       "    <tr>\n",
       "      <th>2</th>\n",
       "      <td>Daily Top 10 &lt;Karmandeep-opengevl@universalnet...</td>\n",
       "      <td>user2.9@gvc.ceas-challenge.cc</td>\n",
       "      <td>Tue, 05 Aug 2008 20:28:00 -1200</td>\n",
       "      <td>CNN.com Daily Top 10</td>\n",
       "      <td>&gt;+=+=+=+=+=+=+=+=+=+=+=+=+=+=+=+=+=+=+=+=+=+=+...</td>\n",
       "      <td>1</td>\n",
       "      <td>1</td>\n",
       "    </tr>\n",
       "    <tr>\n",
       "      <th>3</th>\n",
       "      <td>Michael Parker &lt;ivqrnai@pobox.com&gt;</td>\n",
       "      <td>SpamAssassin Dev &lt;xrh@spamassassin.apache.org&gt;</td>\n",
       "      <td>Tue, 05 Aug 2008 17:31:20 -0600</td>\n",
       "      <td>Re: svn commit: r619753 - in /spamassassin/tru...</td>\n",
       "      <td>Would anyone object to removing .so from this ...</td>\n",
       "      <td>0</td>\n",
       "      <td>1</td>\n",
       "    </tr>\n",
       "    <tr>\n",
       "      <th>4</th>\n",
       "      <td>Gretchen Suggs &lt;externalsep1@loanofficertool.com&gt;</td>\n",
       "      <td>user2.2@gvc.ceas-challenge.cc</td>\n",
       "      <td>Tue, 05 Aug 2008 19:31:21 -0400</td>\n",
       "      <td>SpecialPricesPharmMoreinfo</td>\n",
       "      <td>\\nWelcomeFastShippingCustomerSupport\\nhttp://7...</td>\n",
       "      <td>1</td>\n",
       "      <td>1</td>\n",
       "    </tr>\n",
       "    <tr>\n",
       "      <th>...</th>\n",
       "      <td>...</td>\n",
       "      <td>...</td>\n",
       "      <td>...</td>\n",
       "      <td>...</td>\n",
       "      <td>...</td>\n",
       "      <td>...</td>\n",
       "      <td>...</td>\n",
       "    </tr>\n",
       "    <tr>\n",
       "      <th>39149</th>\n",
       "      <td>CNN Alerts &lt;charlene-detecton@btcmarketing.com&gt;</td>\n",
       "      <td>email1007@gvc.ceas-challenge.cc</td>\n",
       "      <td>Fri, 08 Aug 2008 10:34:50 -0400</td>\n",
       "      <td>CNN Alerts: My Custom Alert</td>\n",
       "      <td>\\n\\nCNN Alerts: My Custom Alert\\n\\n\\n\\n\\n\\n\\n ...</td>\n",
       "      <td>1</td>\n",
       "      <td>0</td>\n",
       "    </tr>\n",
       "    <tr>\n",
       "      <th>39150</th>\n",
       "      <td>CNN Alerts &lt;idgetily1971@careplusnj.org&gt;</td>\n",
       "      <td>email104@gvc.ceas-challenge.cc</td>\n",
       "      <td>Fri, 08 Aug 2008 10:35:11 -0400</td>\n",
       "      <td>CNN Alerts: My Custom Alert</td>\n",
       "      <td>\\n\\nCNN Alerts: My Custom Alert\\n\\n\\n\\n\\n\\n\\n ...</td>\n",
       "      <td>1</td>\n",
       "      <td>0</td>\n",
       "    </tr>\n",
       "    <tr>\n",
       "      <th>39151</th>\n",
       "      <td>Abhijit Vyas &lt;xpojhbz@gmail.com&gt;</td>\n",
       "      <td>fxgmqwjn@triptracker.net</td>\n",
       "      <td>Fri, 08 Aug 2008 22:00:43 +0800</td>\n",
       "      <td>Slideshow viewer</td>\n",
       "      <td>Hello there ! \\nGreat work on the slide show v...</td>\n",
       "      <td>0</td>\n",
       "      <td>0</td>\n",
       "    </tr>\n",
       "    <tr>\n",
       "      <th>39152</th>\n",
       "      <td>Joseph Brennan &lt;vupzesm@columbia.edu&gt;</td>\n",
       "      <td>zqoqi@spamassassin.apache.org</td>\n",
       "      <td>Fri, 08 Aug 2008 09:00:46 -0500</td>\n",
       "      <td>Note on 2-digit years</td>\n",
       "      <td>\\nMail from sender , coming from intuit.com\\ns...</td>\n",
       "      <td>0</td>\n",
       "      <td>0</td>\n",
       "    </tr>\n",
       "    <tr>\n",
       "      <th>39153</th>\n",
       "      <td>Christian Heimes &lt;wluhe@cheimes.de&gt;</td>\n",
       "      <td>Python Dev &lt;zvllln-eum@python.org&gt;</td>\n",
       "      <td>Fri, 08 Aug 2008 16:00:18 +0200</td>\n",
       "      <td>[Python-Dev] PEP 370 heads up</td>\n",
       "      <td>Dear fellow Pythonistas!\\n\\nGuido has accepted...</td>\n",
       "      <td>0</td>\n",
       "      <td>1</td>\n",
       "    </tr>\n",
       "  </tbody>\n",
       "</table>\n",
       "<p>39154 rows × 7 columns</p>\n",
       "</div>"
      ],
      "text/plain": [
       "                                                  sender  \\\n",
       "0                       Young Esposito <Young@iworld.de>   \n",
       "1                           Mok <ipline's1983@icable.ph>   \n",
       "2      Daily Top 10 <Karmandeep-opengevl@universalnet...   \n",
       "3                     Michael Parker <ivqrnai@pobox.com>   \n",
       "4      Gretchen Suggs <externalsep1@loanofficertool.com>   \n",
       "...                                                  ...   \n",
       "39149    CNN Alerts <charlene-detecton@btcmarketing.com>   \n",
       "39150           CNN Alerts <idgetily1971@careplusnj.org>   \n",
       "39151                   Abhijit Vyas <xpojhbz@gmail.com>   \n",
       "39152              Joseph Brennan <vupzesm@columbia.edu>   \n",
       "39153                Christian Heimes <wluhe@cheimes.de>   \n",
       "\n",
       "                                             receiver  \\\n",
       "0                         user4@gvc.ceas-challenge.cc   \n",
       "1                       user2.2@gvc.ceas-challenge.cc   \n",
       "2                       user2.9@gvc.ceas-challenge.cc   \n",
       "3      SpamAssassin Dev <xrh@spamassassin.apache.org>   \n",
       "4                       user2.2@gvc.ceas-challenge.cc   \n",
       "...                                               ...   \n",
       "39149                 email1007@gvc.ceas-challenge.cc   \n",
       "39150                  email104@gvc.ceas-challenge.cc   \n",
       "39151                        fxgmqwjn@triptracker.net   \n",
       "39152                   zqoqi@spamassassin.apache.org   \n",
       "39153              Python Dev <zvllln-eum@python.org>   \n",
       "\n",
       "                                  date  \\\n",
       "0      Tue, 05 Aug 2008 16:31:02 -0700   \n",
       "1      Tue, 05 Aug 2008 18:31:03 -0500   \n",
       "2      Tue, 05 Aug 2008 20:28:00 -1200   \n",
       "3      Tue, 05 Aug 2008 17:31:20 -0600   \n",
       "4      Tue, 05 Aug 2008 19:31:21 -0400   \n",
       "...                                ...   \n",
       "39149  Fri, 08 Aug 2008 10:34:50 -0400   \n",
       "39150  Fri, 08 Aug 2008 10:35:11 -0400   \n",
       "39151  Fri, 08 Aug 2008 22:00:43 +0800   \n",
       "39152  Fri, 08 Aug 2008 09:00:46 -0500   \n",
       "39153  Fri, 08 Aug 2008 16:00:18 +0200   \n",
       "\n",
       "                                                 subject  \\\n",
       "0                              Never agree to be a loser   \n",
       "1                                 Befriend Jenna Jameson   \n",
       "2                                   CNN.com Daily Top 10   \n",
       "3      Re: svn commit: r619753 - in /spamassassin/tru...   \n",
       "4                             SpecialPricesPharmMoreinfo   \n",
       "...                                                  ...   \n",
       "39149                        CNN Alerts: My Custom Alert   \n",
       "39150                        CNN Alerts: My Custom Alert   \n",
       "39151                                   Slideshow viewer   \n",
       "39152                              Note on 2-digit years   \n",
       "39153                      [Python-Dev] PEP 370 heads up   \n",
       "\n",
       "                                                    body  label  urls  \n",
       "0      Buck up, your troubles caused by small dimensi...      1     1  \n",
       "1      \\nUpgrade your sex and pleasures with these te...      1     1  \n",
       "2      >+=+=+=+=+=+=+=+=+=+=+=+=+=+=+=+=+=+=+=+=+=+=+...      1     1  \n",
       "3      Would anyone object to removing .so from this ...      0     1  \n",
       "4      \\nWelcomeFastShippingCustomerSupport\\nhttp://7...      1     1  \n",
       "...                                                  ...    ...   ...  \n",
       "39149  \\n\\nCNN Alerts: My Custom Alert\\n\\n\\n\\n\\n\\n\\n ...      1     0  \n",
       "39150  \\n\\nCNN Alerts: My Custom Alert\\n\\n\\n\\n\\n\\n\\n ...      1     0  \n",
       "39151  Hello there ! \\nGreat work on the slide show v...      0     0  \n",
       "39152  \\nMail from sender , coming from intuit.com\\ns...      0     0  \n",
       "39153  Dear fellow Pythonistas!\\n\\nGuido has accepted...      0     1  \n",
       "\n",
       "[39154 rows x 7 columns]"
      ]
     },
     "execution_count": 5,
     "metadata": {},
     "output_type": "execute_result"
    }
   ],
   "source": [
    "df = pd.read_csv('dataset/CEAS_08.csv')\n",
    "df"
   ]
  },
  {
   "cell_type": "markdown",
   "id": "bb8ded7d",
   "metadata": {},
   "source": [
    "Cleaning Dataset"
   ]
  },
  {
   "cell_type": "code",
   "execution_count": 7,
   "id": "e0b4464c",
   "metadata": {},
   "outputs": [
    {
     "name": "stdout",
     "output_type": "stream",
     "text": [
      "<class 'pandas.core.frame.DataFrame'>\n",
      "RangeIndex: 38669 entries, 0 to 38668\n",
      "Data columns (total 7 columns):\n",
      " #   Column    Non-Null Count  Dtype \n",
      "---  ------    --------------  ----- \n",
      " 0   sender    38669 non-null  object\n",
      " 1   receiver  38669 non-null  object\n",
      " 2   date      38669 non-null  object\n",
      " 3   subject   38669 non-null  object\n",
      " 4   body      38669 non-null  object\n",
      " 5   label     38669 non-null  int64 \n",
      " 6   urls      38669 non-null  int64 \n",
      "dtypes: int64(2), object(5)\n",
      "memory usage: 2.1+ MB\n",
      "None\n"
     ]
    }
   ],
   "source": [
    "df = df.dropna()\n",
    "df = df.reset_index(drop =True)\n",
    "print(df.info())"
   ]
  },
  {
   "cell_type": "markdown",
   "id": "fb6e266e",
   "metadata": {},
   "source": [
    "subject based detection"
   ]
  },
  {
   "cell_type": "code",
   "execution_count": 8,
   "id": "a1ce4420",
   "metadata": {},
   "outputs": [],
   "source": [
    "#use this block to predict phishing subject based"
   ]
  },
  {
   "cell_type": "markdown",
   "id": "46966111",
   "metadata": {},
   "source": [
    "body based detection"
   ]
  },
  {
   "cell_type": "code",
   "execution_count": 9,
   "id": "f23d4721",
   "metadata": {},
   "outputs": [],
   "source": [
    "#use this block to predict using body based"
   ]
  },
  {
   "cell_type": "markdown",
   "id": "48ba8203",
   "metadata": {},
   "source": [
    "sender based"
   ]
  },
  {
   "cell_type": "code",
   "execution_count": 10,
   "id": "2a1fc9f4",
   "metadata": {},
   "outputs": [],
   "source": [
    "#use this to predict using sender (maybe reciver also)"
   ]
  },
  {
   "cell_type": "markdown",
   "id": "24c8760d",
   "metadata": {},
   "source": [
    "body, sender, subject based detection"
   ]
  },
  {
   "cell_type": "code",
   "execution_count": null,
   "id": "5e70961e",
   "metadata": {},
   "outputs": [],
   "source": [
    "#use this to take into context subject body and sender "
   ]
  },
  {
   "cell_type": "markdown",
   "id": "fc09159a",
   "metadata": {},
   "source": [
    "use fuzzy rules to take into context the individual models for subject body and sender and combine them into one fuzzy logic based model to predict phishing emails"
   ]
  }
 ],
 "metadata": {
  "kernelspec": {
   "display_name": "Python 3",
   "language": "python",
   "name": "python3"
  },
  "language_info": {
   "codemirror_mode": {
    "name": "ipython",
    "version": 3
   },
   "file_extension": ".py",
   "mimetype": "text/x-python",
   "name": "python",
   "nbconvert_exporter": "python",
   "pygments_lexer": "ipython3",
   "version": "3.13.1"
  }
 },
 "nbformat": 4,
 "nbformat_minor": 5
}
